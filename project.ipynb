{
 "cells": [
  {
   "cell_type": "markdown",
   "id": "c4e52ee5",
   "metadata": {},
   "source": [
    "## The dataset\n",
    "\n",
    "This is a real dataset and it was downloaded using web scraping techniques. The data contains registers from fotocasa which is one of the most popular websites of real estate in Spain. Please, do not do this (web scraping) unless it is for academic purposes.\n",
    "\n",
    "The dataset was downloaded a few years ago by Henry Navarro and In no case were economic returns obtained from it.\n",
    "\n",
    "It contains thousands of data from real homes published on the web www.fotocasa.com. Your goal is to extract as much information as possible with the knowledge you have so far about data science, for example what is the most expensive home in the entire dataset?\n",
    "\n",
    "Let's start with precisely that question... Good luck!\n"
   ]
  },
  {
   "cell_type": "markdown",
   "id": "dd97255d",
   "metadata": {},
   "source": [
    "#### Read the dataset assets/real_estate.csv and try to visualize the table (★☆☆)"
   ]
  },
  {
   "cell_type": "code",
   "execution_count": 1,
   "id": "4b93d9c8",
   "metadata": {},
   "outputs": [],
   "source": [
    "import pandas as pd"
   ]
  },
  {
   "cell_type": "code",
   "execution_count": 2,
   "id": "36f27551",
   "metadata": {},
   "outputs": [
    {
     "data": {
      "text/html": [
       "<div>\n",
       "<style scoped>\n",
       "    .dataframe tbody tr th:only-of-type {\n",
       "        vertical-align: middle;\n",
       "    }\n",
       "\n",
       "    .dataframe tbody tr th {\n",
       "        vertical-align: top;\n",
       "    }\n",
       "\n",
       "    .dataframe thead th {\n",
       "        text-align: right;\n",
       "    }\n",
       "</style>\n",
       "<table border=\"1\" class=\"dataframe\">\n",
       "  <thead>\n",
       "    <tr style=\"text-align: right;\">\n",
       "      <th></th>\n",
       "      <th>Unnamed: 0</th>\n",
       "      <th>id_realEstates</th>\n",
       "      <th>isNew</th>\n",
       "      <th>realEstate_name</th>\n",
       "      <th>phone_realEstate</th>\n",
       "      <th>url_inmueble</th>\n",
       "      <th>rooms</th>\n",
       "      <th>bathrooms</th>\n",
       "      <th>surface</th>\n",
       "      <th>price</th>\n",
       "      <th>...</th>\n",
       "      <th>level4Id</th>\n",
       "      <th>level5Id</th>\n",
       "      <th>level6Id</th>\n",
       "      <th>level7Id</th>\n",
       "      <th>level8Id</th>\n",
       "      <th>accuracy</th>\n",
       "      <th>latitude</th>\n",
       "      <th>longitude</th>\n",
       "      <th>zipCode</th>\n",
       "      <th>customZone</th>\n",
       "    </tr>\n",
       "  </thead>\n",
       "  <tbody>\n",
       "    <tr>\n",
       "      <th>0</th>\n",
       "      <td>1</td>\n",
       "      <td>153771986</td>\n",
       "      <td>False</td>\n",
       "      <td>ferrari 57 inmobiliaria</td>\n",
       "      <td>912177526.0</td>\n",
       "      <td>https://www.fotocasa.es/es/comprar/vivienda/ma...</td>\n",
       "      <td>3.0</td>\n",
       "      <td>2.0</td>\n",
       "      <td>103.0</td>\n",
       "      <td>195000</td>\n",
       "      <td>...</td>\n",
       "      <td>0</td>\n",
       "      <td>0</td>\n",
       "      <td>0</td>\n",
       "      <td>0</td>\n",
       "      <td>0</td>\n",
       "      <td>0</td>\n",
       "      <td>40,2948276786438</td>\n",
       "      <td>-3,44402412135624</td>\n",
       "      <td>NaN</td>\n",
       "      <td>NaN</td>\n",
       "    </tr>\n",
       "    <tr>\n",
       "      <th>1</th>\n",
       "      <td>2</td>\n",
       "      <td>153867863</td>\n",
       "      <td>False</td>\n",
       "      <td>tecnocasa fuenlabrada ferrocarril</td>\n",
       "      <td>916358736.0</td>\n",
       "      <td>https://www.fotocasa.es/es/comprar/vivienda/ma...</td>\n",
       "      <td>3.0</td>\n",
       "      <td>1.0</td>\n",
       "      <td>NaN</td>\n",
       "      <td>89000</td>\n",
       "      <td>...</td>\n",
       "      <td>0</td>\n",
       "      <td>0</td>\n",
       "      <td>0</td>\n",
       "      <td>0</td>\n",
       "      <td>0</td>\n",
       "      <td>1</td>\n",
       "      <td>40,28674</td>\n",
       "      <td>-3,79351</td>\n",
       "      <td>NaN</td>\n",
       "      <td>NaN</td>\n",
       "    </tr>\n",
       "    <tr>\n",
       "      <th>2</th>\n",
       "      <td>3</td>\n",
       "      <td>153430440</td>\n",
       "      <td>False</td>\n",
       "      <td>look find boadilla</td>\n",
       "      <td>916350408.0</td>\n",
       "      <td>https://www.fotocasa.es/es/comprar/vivienda/ma...</td>\n",
       "      <td>2.0</td>\n",
       "      <td>2.0</td>\n",
       "      <td>99.0</td>\n",
       "      <td>390000</td>\n",
       "      <td>...</td>\n",
       "      <td>0</td>\n",
       "      <td>0</td>\n",
       "      <td>0</td>\n",
       "      <td>0</td>\n",
       "      <td>0</td>\n",
       "      <td>0</td>\n",
       "      <td>40,4115646786438</td>\n",
       "      <td>-3,90662252135624</td>\n",
       "      <td>NaN</td>\n",
       "      <td>NaN</td>\n",
       "    </tr>\n",
       "    <tr>\n",
       "      <th>3</th>\n",
       "      <td>4</td>\n",
       "      <td>152776331</td>\n",
       "      <td>False</td>\n",
       "      <td>tecnocasa fuenlabrada ferrocarril</td>\n",
       "      <td>916358736.0</td>\n",
       "      <td>https://www.fotocasa.es/es/comprar/vivienda/ma...</td>\n",
       "      <td>3.0</td>\n",
       "      <td>1.0</td>\n",
       "      <td>86.0</td>\n",
       "      <td>89000</td>\n",
       "      <td>...</td>\n",
       "      <td>0</td>\n",
       "      <td>0</td>\n",
       "      <td>0</td>\n",
       "      <td>0</td>\n",
       "      <td>0</td>\n",
       "      <td>0</td>\n",
       "      <td>40,2853785786438</td>\n",
       "      <td>-3,79508142135624</td>\n",
       "      <td>NaN</td>\n",
       "      <td>NaN</td>\n",
       "    </tr>\n",
       "    <tr>\n",
       "      <th>4</th>\n",
       "      <td>5</td>\n",
       "      <td>153180188</td>\n",
       "      <td>False</td>\n",
       "      <td>ferrari 57 inmobiliaria</td>\n",
       "      <td>912177526.0</td>\n",
       "      <td>https://www.fotocasa.es/es/comprar/vivienda/ma...</td>\n",
       "      <td>2.0</td>\n",
       "      <td>2.0</td>\n",
       "      <td>106.0</td>\n",
       "      <td>172000</td>\n",
       "      <td>...</td>\n",
       "      <td>0</td>\n",
       "      <td>0</td>\n",
       "      <td>0</td>\n",
       "      <td>0</td>\n",
       "      <td>0</td>\n",
       "      <td>0</td>\n",
       "      <td>40,2998774864376</td>\n",
       "      <td>-3,45226301356237</td>\n",
       "      <td>NaN</td>\n",
       "      <td>NaN</td>\n",
       "    </tr>\n",
       "  </tbody>\n",
       "</table>\n",
       "<p>5 rows × 37 columns</p>\n",
       "</div>"
      ],
      "text/plain": [
       "   Unnamed: 0  id_realEstates  isNew                    realEstate_name  \\\n",
       "0           1       153771986  False            ferrari 57 inmobiliaria   \n",
       "1           2       153867863  False  tecnocasa fuenlabrada ferrocarril   \n",
       "2           3       153430440  False                 look find boadilla   \n",
       "3           4       152776331  False  tecnocasa fuenlabrada ferrocarril   \n",
       "4           5       153180188  False            ferrari 57 inmobiliaria   \n",
       "\n",
       "   phone_realEstate                                       url_inmueble  rooms  \\\n",
       "0       912177526.0  https://www.fotocasa.es/es/comprar/vivienda/ma...    3.0   \n",
       "1       916358736.0  https://www.fotocasa.es/es/comprar/vivienda/ma...    3.0   \n",
       "2       916350408.0  https://www.fotocasa.es/es/comprar/vivienda/ma...    2.0   \n",
       "3       916358736.0  https://www.fotocasa.es/es/comprar/vivienda/ma...    3.0   \n",
       "4       912177526.0  https://www.fotocasa.es/es/comprar/vivienda/ma...    2.0   \n",
       "\n",
       "   bathrooms  surface   price  ... level4Id level5Id level6Id level7Id  \\\n",
       "0        2.0    103.0  195000  ...        0        0        0        0   \n",
       "1        1.0      NaN   89000  ...        0        0        0        0   \n",
       "2        2.0     99.0  390000  ...        0        0        0        0   \n",
       "3        1.0     86.0   89000  ...        0        0        0        0   \n",
       "4        2.0    106.0  172000  ...        0        0        0        0   \n",
       "\n",
       "  level8Id accuracy          latitude          longitude zipCode customZone  \n",
       "0        0        0  40,2948276786438  -3,44402412135624     NaN        NaN  \n",
       "1        0        1          40,28674           -3,79351     NaN        NaN  \n",
       "2        0        0  40,4115646786438  -3,90662252135624     NaN        NaN  \n",
       "3        0        0  40,2853785786438  -3,79508142135624     NaN        NaN  \n",
       "4        0        0  40,2998774864376  -3,45226301356237     NaN        NaN  \n",
       "\n",
       "[5 rows x 37 columns]"
      ]
     },
     "execution_count": 2,
     "metadata": {},
     "output_type": "execute_result"
    }
   ],
   "source": [
    "data = pd.read_csv(\"assets/real_estate.csv\", sep=';')\n",
    "data.head()"
   ]
  },
  {
   "cell_type": "code",
   "execution_count": 3,
   "id": "3df03a7b",
   "metadata": {},
   "outputs": [
    {
     "name": "stdout",
     "output_type": "stream",
     "text": [
      "Cantidad de observaciones: 15335\n",
      "Dataframe columns: Index(['Unnamed: 0', 'id_realEstates', 'isNew', 'realEstate_name',\n",
      "       'phone_realEstate', 'url_inmueble', 'rooms', 'bathrooms', 'surface',\n",
      "       'price', 'date', 'description', 'address', 'country', 'level1',\n",
      "       'level2', 'level3', 'level4', 'level5', 'level6', 'level7', 'level8',\n",
      "       'upperLevel', 'countryId', 'level1Id', 'level2Id', 'level3Id',\n",
      "       'level4Id', 'level5Id', 'level6Id', 'level7Id', 'level8Id', 'accuracy',\n",
      "       'latitude', 'longitude', 'zipCode', 'customZone'],\n",
      "      dtype='object')\n"
     ]
    }
   ],
   "source": [
    "print(\"Cantidad de observaciones:\",len(data.index))\n",
    "print(\"Dataframe columns:\", data.columns)"
   ]
  },
  {
   "cell_type": "code",
   "execution_count": 4,
   "id": "4ff32314",
   "metadata": {},
   "outputs": [
    {
     "data": {
      "text/html": [
       "<div>\n",
       "<style scoped>\n",
       "    .dataframe tbody tr th:only-of-type {\n",
       "        vertical-align: middle;\n",
       "    }\n",
       "\n",
       "    .dataframe tbody tr th {\n",
       "        vertical-align: top;\n",
       "    }\n",
       "\n",
       "    .dataframe thead th {\n",
       "        text-align: right;\n",
       "    }\n",
       "</style>\n",
       "<table border=\"1\" class=\"dataframe\">\n",
       "  <thead>\n",
       "    <tr style=\"text-align: right;\">\n",
       "      <th></th>\n",
       "      <th>Unnamed: 0</th>\n",
       "      <th>id_realEstates</th>\n",
       "      <th>phone_realEstate</th>\n",
       "      <th>rooms</th>\n",
       "      <th>bathrooms</th>\n",
       "      <th>surface</th>\n",
       "      <th>price</th>\n",
       "      <th>countryId</th>\n",
       "      <th>level1Id</th>\n",
       "      <th>level2Id</th>\n",
       "      <th>level3Id</th>\n",
       "      <th>level4Id</th>\n",
       "      <th>level5Id</th>\n",
       "      <th>level6Id</th>\n",
       "      <th>level7Id</th>\n",
       "      <th>level8Id</th>\n",
       "      <th>accuracy</th>\n",
       "      <th>zipCode</th>\n",
       "      <th>customZone</th>\n",
       "    </tr>\n",
       "  </thead>\n",
       "  <tbody>\n",
       "    <tr>\n",
       "      <th>count</th>\n",
       "      <td>15335.000000</td>\n",
       "      <td>1.533500e+04</td>\n",
       "      <td>1.454100e+04</td>\n",
       "      <td>14982.000000</td>\n",
       "      <td>14990.000000</td>\n",
       "      <td>14085.000000</td>\n",
       "      <td>1.533500e+04</td>\n",
       "      <td>15335.0</td>\n",
       "      <td>15335.0</td>\n",
       "      <td>15335.0</td>\n",
       "      <td>15335.0</td>\n",
       "      <td>15335.0</td>\n",
       "      <td>15335.0</td>\n",
       "      <td>15335.0</td>\n",
       "      <td>15335.0</td>\n",
       "      <td>15335.0</td>\n",
       "      <td>15335.000000</td>\n",
       "      <td>0.0</td>\n",
       "      <td>0.0</td>\n",
       "    </tr>\n",
       "    <tr>\n",
       "      <th>mean</th>\n",
       "      <td>7668.000000</td>\n",
       "      <td>1.524371e+08</td>\n",
       "      <td>9.143423e+08</td>\n",
       "      <td>3.231611</td>\n",
       "      <td>2.150233</td>\n",
       "      <td>196.916436</td>\n",
       "      <td>4.773036e+05</td>\n",
       "      <td>0.0</td>\n",
       "      <td>0.0</td>\n",
       "      <td>0.0</td>\n",
       "      <td>0.0</td>\n",
       "      <td>0.0</td>\n",
       "      <td>0.0</td>\n",
       "      <td>0.0</td>\n",
       "      <td>0.0</td>\n",
       "      <td>0.0</td>\n",
       "      <td>0.166873</td>\n",
       "      <td>NaN</td>\n",
       "      <td>NaN</td>\n",
       "    </tr>\n",
       "    <tr>\n",
       "      <th>std</th>\n",
       "      <td>4426.977524</td>\n",
       "      <td>2.277286e+06</td>\n",
       "      <td>7.516036e+06</td>\n",
       "      <td>1.393106</td>\n",
       "      <td>1.292079</td>\n",
       "      <td>2182.758313</td>\n",
       "      <td>5.912942e+05</td>\n",
       "      <td>0.0</td>\n",
       "      <td>0.0</td>\n",
       "      <td>0.0</td>\n",
       "      <td>0.0</td>\n",
       "      <td>0.0</td>\n",
       "      <td>0.0</td>\n",
       "      <td>0.0</td>\n",
       "      <td>0.0</td>\n",
       "      <td>0.0</td>\n",
       "      <td>0.372875</td>\n",
       "      <td>NaN</td>\n",
       "      <td>NaN</td>\n",
       "    </tr>\n",
       "    <tr>\n",
       "      <th>min</th>\n",
       "      <td>1.000000</td>\n",
       "      <td>1.221584e+08</td>\n",
       "      <td>8.762742e+08</td>\n",
       "      <td>1.000000</td>\n",
       "      <td>1.000000</td>\n",
       "      <td>15.000000</td>\n",
       "      <td>0.000000e+00</td>\n",
       "      <td>0.0</td>\n",
       "      <td>0.0</td>\n",
       "      <td>0.0</td>\n",
       "      <td>0.0</td>\n",
       "      <td>0.0</td>\n",
       "      <td>0.0</td>\n",
       "      <td>0.0</td>\n",
       "      <td>0.0</td>\n",
       "      <td>0.0</td>\n",
       "      <td>0.000000</td>\n",
       "      <td>NaN</td>\n",
       "      <td>NaN</td>\n",
       "    </tr>\n",
       "    <tr>\n",
       "      <th>25%</th>\n",
       "      <td>3834.500000</td>\n",
       "      <td>1.519456e+08</td>\n",
       "      <td>9.113649e+08</td>\n",
       "      <td>2.000000</td>\n",
       "      <td>1.000000</td>\n",
       "      <td>80.000000</td>\n",
       "      <td>1.690000e+05</td>\n",
       "      <td>0.0</td>\n",
       "      <td>0.0</td>\n",
       "      <td>0.0</td>\n",
       "      <td>0.0</td>\n",
       "      <td>0.0</td>\n",
       "      <td>0.0</td>\n",
       "      <td>0.0</td>\n",
       "      <td>0.0</td>\n",
       "      <td>0.0</td>\n",
       "      <td>0.000000</td>\n",
       "      <td>NaN</td>\n",
       "      <td>NaN</td>\n",
       "    </tr>\n",
       "    <tr>\n",
       "      <th>50%</th>\n",
       "      <td>7668.000000</td>\n",
       "      <td>1.532413e+08</td>\n",
       "      <td>9.121841e+08</td>\n",
       "      <td>3.000000</td>\n",
       "      <td>2.000000</td>\n",
       "      <td>114.000000</td>\n",
       "      <td>2.800000e+05</td>\n",
       "      <td>0.0</td>\n",
       "      <td>0.0</td>\n",
       "      <td>0.0</td>\n",
       "      <td>0.0</td>\n",
       "      <td>0.0</td>\n",
       "      <td>0.0</td>\n",
       "      <td>0.0</td>\n",
       "      <td>0.0</td>\n",
       "      <td>0.0</td>\n",
       "      <td>0.000000</td>\n",
       "      <td>NaN</td>\n",
       "      <td>NaN</td>\n",
       "    </tr>\n",
       "    <tr>\n",
       "      <th>75%</th>\n",
       "      <td>11501.500000</td>\n",
       "      <td>1.538105e+08</td>\n",
       "      <td>9.148904e+08</td>\n",
       "      <td>4.000000</td>\n",
       "      <td>3.000000</td>\n",
       "      <td>205.000000</td>\n",
       "      <td>5.400000e+05</td>\n",
       "      <td>0.0</td>\n",
       "      <td>0.0</td>\n",
       "      <td>0.0</td>\n",
       "      <td>0.0</td>\n",
       "      <td>0.0</td>\n",
       "      <td>0.0</td>\n",
       "      <td>0.0</td>\n",
       "      <td>0.0</td>\n",
       "      <td>0.0</td>\n",
       "      <td>0.000000</td>\n",
       "      <td>NaN</td>\n",
       "      <td>NaN</td>\n",
       "    </tr>\n",
       "    <tr>\n",
       "      <th>max</th>\n",
       "      <td>15335.000000</td>\n",
       "      <td>1.540033e+08</td>\n",
       "      <td>9.887761e+08</td>\n",
       "      <td>30.000000</td>\n",
       "      <td>20.000000</td>\n",
       "      <td>249000.000000</td>\n",
       "      <td>8.500000e+06</td>\n",
       "      <td>0.0</td>\n",
       "      <td>0.0</td>\n",
       "      <td>0.0</td>\n",
       "      <td>0.0</td>\n",
       "      <td>0.0</td>\n",
       "      <td>0.0</td>\n",
       "      <td>0.0</td>\n",
       "      <td>0.0</td>\n",
       "      <td>0.0</td>\n",
       "      <td>1.000000</td>\n",
       "      <td>NaN</td>\n",
       "      <td>NaN</td>\n",
       "    </tr>\n",
       "  </tbody>\n",
       "</table>\n",
       "</div>"
      ],
      "text/plain": [
       "         Unnamed: 0  id_realEstates  phone_realEstate         rooms  \\\n",
       "count  15335.000000    1.533500e+04      1.454100e+04  14982.000000   \n",
       "mean    7668.000000    1.524371e+08      9.143423e+08      3.231611   \n",
       "std     4426.977524    2.277286e+06      7.516036e+06      1.393106   \n",
       "min        1.000000    1.221584e+08      8.762742e+08      1.000000   \n",
       "25%     3834.500000    1.519456e+08      9.113649e+08      2.000000   \n",
       "50%     7668.000000    1.532413e+08      9.121841e+08      3.000000   \n",
       "75%    11501.500000    1.538105e+08      9.148904e+08      4.000000   \n",
       "max    15335.000000    1.540033e+08      9.887761e+08     30.000000   \n",
       "\n",
       "          bathrooms        surface         price  countryId  level1Id  \\\n",
       "count  14990.000000   14085.000000  1.533500e+04    15335.0   15335.0   \n",
       "mean       2.150233     196.916436  4.773036e+05        0.0       0.0   \n",
       "std        1.292079    2182.758313  5.912942e+05        0.0       0.0   \n",
       "min        1.000000      15.000000  0.000000e+00        0.0       0.0   \n",
       "25%        1.000000      80.000000  1.690000e+05        0.0       0.0   \n",
       "50%        2.000000     114.000000  2.800000e+05        0.0       0.0   \n",
       "75%        3.000000     205.000000  5.400000e+05        0.0       0.0   \n",
       "max       20.000000  249000.000000  8.500000e+06        0.0       0.0   \n",
       "\n",
       "       level2Id  level3Id  level4Id  level5Id  level6Id  level7Id  level8Id  \\\n",
       "count   15335.0   15335.0   15335.0   15335.0   15335.0   15335.0   15335.0   \n",
       "mean        0.0       0.0       0.0       0.0       0.0       0.0       0.0   \n",
       "std         0.0       0.0       0.0       0.0       0.0       0.0       0.0   \n",
       "min         0.0       0.0       0.0       0.0       0.0       0.0       0.0   \n",
       "25%         0.0       0.0       0.0       0.0       0.0       0.0       0.0   \n",
       "50%         0.0       0.0       0.0       0.0       0.0       0.0       0.0   \n",
       "75%         0.0       0.0       0.0       0.0       0.0       0.0       0.0   \n",
       "max         0.0       0.0       0.0       0.0       0.0       0.0       0.0   \n",
       "\n",
       "           accuracy  zipCode  customZone  \n",
       "count  15335.000000      0.0         0.0  \n",
       "mean       0.166873      NaN         NaN  \n",
       "std        0.372875      NaN         NaN  \n",
       "min        0.000000      NaN         NaN  \n",
       "25%        0.000000      NaN         NaN  \n",
       "50%        0.000000      NaN         NaN  \n",
       "75%        0.000000      NaN         NaN  \n",
       "max        1.000000      NaN         NaN  "
      ]
     },
     "execution_count": 4,
     "metadata": {},
     "output_type": "execute_result"
    }
   ],
   "source": [
    "data.describe()"
   ]
  },
  {
   "cell_type": "code",
   "execution_count": 5,
   "id": "03e8fecb",
   "metadata": {},
   "outputs": [
    {
     "name": "stdout",
     "output_type": "stream",
     "text": [
      "<class 'pandas.core.frame.DataFrame'>\n",
      "RangeIndex: 15335 entries, 0 to 15334\n",
      "Data columns (total 37 columns):\n",
      " #   Column            Non-Null Count  Dtype  \n",
      "---  ------            --------------  -----  \n",
      " 0   Unnamed: 0        15335 non-null  int64  \n",
      " 1   id_realEstates    15335 non-null  int64  \n",
      " 2   isNew             15335 non-null  bool   \n",
      " 3   realEstate_name   15325 non-null  object \n",
      " 4   phone_realEstate  14541 non-null  float64\n",
      " 5   url_inmueble      15335 non-null  object \n",
      " 6   rooms             14982 non-null  float64\n",
      " 7   bathrooms         14990 non-null  float64\n",
      " 8   surface           14085 non-null  float64\n",
      " 9   price             15335 non-null  int64  \n",
      " 10  date              15335 non-null  object \n",
      " 11  description       15193 non-null  object \n",
      " 12  address           15335 non-null  object \n",
      " 13  country           15335 non-null  object \n",
      " 14  level1            15335 non-null  object \n",
      " 15  level2            15335 non-null  object \n",
      " 16  level3            15335 non-null  object \n",
      " 17  level4            8692 non-null   object \n",
      " 18  level5            15335 non-null  object \n",
      " 19  level6            708 non-null    object \n",
      " 20  level7            13058 non-null  object \n",
      " 21  level8            6756 non-null   object \n",
      " 22  upperLevel        15335 non-null  object \n",
      " 23  countryId         15335 non-null  int64  \n",
      " 24  level1Id          15335 non-null  int64  \n",
      " 25  level2Id          15335 non-null  int64  \n",
      " 26  level3Id          15335 non-null  int64  \n",
      " 27  level4Id          15335 non-null  int64  \n",
      " 28  level5Id          15335 non-null  int64  \n",
      " 29  level6Id          15335 non-null  int64  \n",
      " 30  level7Id          15335 non-null  int64  \n",
      " 31  level8Id          15335 non-null  int64  \n",
      " 32  accuracy          15335 non-null  int64  \n",
      " 33  latitude          15335 non-null  object \n",
      " 34  longitude         15335 non-null  object \n",
      " 35  zipCode           0 non-null      float64\n",
      " 36  customZone        0 non-null      float64\n",
      "dtypes: bool(1), float64(6), int64(13), object(17)\n",
      "memory usage: 4.2+ MB\n"
     ]
    }
   ],
   "source": [
    "data.info()\n",
    "# rooms y bathrooms deberían ser números enteros\n",
    "data['rooms'] = data['rooms'].astype('Int64')\n",
    "data['bathrooms'] = data['bathrooms'].astype('Int64')"
   ]
  },
  {
   "cell_type": "markdown",
   "id": "40631cd6",
   "metadata": {},
   "source": [
    "#### What is the most expensive home in the dataset? (★☆☆)"
   ]
  },
  {
   "cell_type": "code",
   "execution_count": 6,
   "id": "8a758bcf",
   "metadata": {},
   "outputs": [
    {
     "name": "stdout",
     "output_type": "stream",
     "text": [
      "Información de la casa más cara\n",
      "Indice: 13110\n",
      "id_realEstates: 132042636\n",
      "Precio de la casa más cara: 8500000\n",
      "Ubicación: El Escorial\n"
     ]
    }
   ],
   "source": [
    "max_index = data[\"price\"].idxmax() \n",
    "\n",
    "print(\"Información de la casa más cara\")\n",
    "print(\"Indice:\", max_index)\n",
    "print(\"id_realEstates:\", data[\"id_realEstates\"].iloc[max_index])\n",
    "print(\"Precio de la casa más cara:\", data[\"price\"].iloc[max_index])\n",
    "print(\"Ubicación:\", data[\"level5\"].iloc[max_index])"
   ]
  },
  {
   "cell_type": "markdown",
   "id": "0a708990",
   "metadata": {},
   "source": [
    "#### What is cheapest home in the dataset? (★☆☆)"
   ]
  },
  {
   "cell_type": "code",
   "execution_count": 7,
   "id": "477e01f4",
   "metadata": {},
   "outputs": [
    {
     "name": "stdout",
     "output_type": "stream",
     "text": [
      "Información de la casa más barata\n",
      "Indice: 366\n",
      "id_realEstates: 153637952\n",
      "Precio de la casa más barata: 0\n",
      "Ubicación: Parla\n"
     ]
    }
   ],
   "source": [
    "min_index = data[\"price\"].idxmin()\n",
    "\n",
    "print(\"Información de la casa más barata\")\n",
    "print(\"Indice:\", min_index)\n",
    "print(\"id_realEstates:\", data[\"id_realEstates\"].iloc[min_index])\n",
    "print(\"Precio de la casa más barata:\", data[\"price\"].iloc[min_index])\n",
    "print(\"Ubicación:\", data[\"level5\"].iloc[min_index])\n",
    "\n",
    "# La casa más barata tiene precio 0 lo cual a priori no parece razonable, calculo el precio mínimo excluyendo a las que tienen precio 0."
   ]
  },
  {
   "cell_type": "code",
   "execution_count": 8,
   "id": "9186e496",
   "metadata": {},
   "outputs": [
    {
     "name": "stdout",
     "output_type": "stream",
     "text": [
      "Casa más barata excluyendo las que tienen precio 0\n",
      "Cantidad de observaciones: 15275\n",
      "Indice: 7453\n",
      "id_realEstates: 153977752\n",
      "Precio de la casa más barata: 600\n",
      "Ubicación: Coslada\n"
     ]
    }
   ],
   "source": [
    "# Casa más barata sin tener en cuenta las que tienen precio 0\n",
    "\n",
    "print(\"Casa más barata excluyendo las que tienen precio 0\")\n",
    "\n",
    "data_sin0 = data.drop(data[data['price'] == 0].index)\n",
    "data_sin0= data_sin0.reset_index()\n",
    "print(\"Cantidad de observaciones:\",len(data_sin0.index))\n",
    "min_index = data_sin0[\"price\"].idxmin() \n",
    "print(\"Indice:\", min_index)\n",
    "print(\"id_realEstates:\", data_sin0[\"id_realEstates\"].iloc[min_index])\n",
    "print(\"Precio de la casa más barata:\", data_sin0[\"price\"].iloc[min_index])\n",
    "print(\"Ubicación:\", data_sin0[\"level5\"].iloc[min_index])"
   ]
  },
  {
   "cell_type": "markdown",
   "id": "0b16cd77",
   "metadata": {},
   "source": [
    "#### What is the biggest and the smallest home in the dataset? (★☆☆)"
   ]
  },
  {
   "cell_type": "code",
   "execution_count": 9,
   "id": "4d9b5975",
   "metadata": {},
   "outputs": [
    {
     "name": "stdout",
     "output_type": "stream",
     "text": [
      "Información de la casa más grande\n",
      "Indice: 6794\n",
      "Superficie: 249000.0\n",
      "id_realEstates: 153936192\n",
      "Ubicación: Sevilla la Nueva\n",
      "\n",
      "Información de la casa más chica\n",
      "Indice: 498\n",
      "Superficie: 15.0\n",
      "id_realEstates: 152817874\n",
      "Ubicación:  Madrid Capital\n"
     ]
    }
   ],
   "source": [
    "max_index = data[\"surface\"].idxmax()\n",
    "\n",
    "print(\"Información de la casa más grande\")\n",
    "print(\"Indice:\", max_index) \n",
    "print(\"Superficie:\", data[\"surface\"].iloc[max_index])\n",
    "print(\"id_realEstates:\", data[\"id_realEstates\"].iloc[max_index])\n",
    "print(\"Ubicación:\", data[\"level5\"].iloc[max_index])\n",
    "\n",
    "print()\n",
    "\n",
    "min_index = data[\"surface\"].idxmin() \n",
    "\n",
    "print(\"Información de la casa más chica\")\n",
    "print(\"Indice:\", min_index) \n",
    "print(\"Superficie:\", data[\"surface\"].iloc[min_index])\n",
    "print(\"id_realEstates:\", data[\"id_realEstates\"].iloc[min_index])\n",
    "print(\"Ubicación:\", data[\"level5\"].iloc[min_index])"
   ]
  },
  {
   "cell_type": "markdown",
   "id": "782d4c77",
   "metadata": {},
   "source": [
    "#### How many populations (level5) the dataset contains? (★☆☆)"
   ]
  },
  {
   "cell_type": "code",
   "execution_count": 10,
   "id": "5dbe1a08",
   "metadata": {},
   "outputs": [
    {
     "name": "stdout",
     "output_type": "stream",
     "text": [
      " Madrid Capital         6643\n",
      "Alcalá de Henares        525\n",
      "Las Rozas de Madrid      383\n",
      "Móstoles                 325\n",
      "Getafe                   290\n",
      "                        ... \n",
      "Brea de Tajo               1\n",
      "El Atazar                  1\n",
      "Piñuécar-gandullas         1\n",
      "Braojos                    1\n",
      "Montejo de la Sierra       1\n",
      "Name: level5, Length: 168, dtype: int64\n",
      "Cantidad de populations que contiene el dataset: 168\n"
     ]
    }
   ],
   "source": [
    "print(data[\"level5\"].value_counts())\n",
    "print(\"Cantidad de populations que contiene el dataset:\", len(data[\"level5\"].value_counts()))"
   ]
  },
  {
   "cell_type": "markdown",
   "id": "48d48f01",
   "metadata": {},
   "source": [
    "#### Does the dataset contain NAs? (★☆☆)\n"
   ]
  },
  {
   "cell_type": "code",
   "execution_count": 11,
   "id": "3ed233e7",
   "metadata": {},
   "outputs": [
    {
     "name": "stdout",
     "output_type": "stream",
     "text": [
      "True\n"
     ]
    }
   ],
   "source": [
    "print(data.isnull().values.any())"
   ]
  },
  {
   "cell_type": "markdown",
   "id": "4fa39382",
   "metadata": {},
   "source": [
    "#### Delete the NAs of the dataset, if applicable (★★☆)"
   ]
  },
  {
   "cell_type": "code",
   "execution_count": 12,
   "id": "6237208c",
   "metadata": {},
   "outputs": [
    {
     "name": "stdout",
     "output_type": "stream",
     "text": [
      "<class 'pandas.core.frame.DataFrame'>\n",
      "RangeIndex: 15335 entries, 0 to 15334\n",
      "Data columns (total 37 columns):\n",
      " #   Column            Non-Null Count  Dtype  \n",
      "---  ------            --------------  -----  \n",
      " 0   Unnamed: 0        15335 non-null  int64  \n",
      " 1   id_realEstates    15335 non-null  int64  \n",
      " 2   isNew             15335 non-null  bool   \n",
      " 3   realEstate_name   15325 non-null  object \n",
      " 4   phone_realEstate  14541 non-null  float64\n",
      " 5   url_inmueble      15335 non-null  object \n",
      " 6   rooms             14982 non-null  Int64  \n",
      " 7   bathrooms         14990 non-null  Int64  \n",
      " 8   surface           14085 non-null  float64\n",
      " 9   price             15335 non-null  int64  \n",
      " 10  date              15335 non-null  object \n",
      " 11  description       15193 non-null  object \n",
      " 12  address           15335 non-null  object \n",
      " 13  country           15335 non-null  object \n",
      " 14  level1            15335 non-null  object \n",
      " 15  level2            15335 non-null  object \n",
      " 16  level3            15335 non-null  object \n",
      " 17  level4            8692 non-null   object \n",
      " 18  level5            15335 non-null  object \n",
      " 19  level6            708 non-null    object \n",
      " 20  level7            13058 non-null  object \n",
      " 21  level8            6756 non-null   object \n",
      " 22  upperLevel        15335 non-null  object \n",
      " 23  countryId         15335 non-null  int64  \n",
      " 24  level1Id          15335 non-null  int64  \n",
      " 25  level2Id          15335 non-null  int64  \n",
      " 26  level3Id          15335 non-null  int64  \n",
      " 27  level4Id          15335 non-null  int64  \n",
      " 28  level5Id          15335 non-null  int64  \n",
      " 29  level6Id          15335 non-null  int64  \n",
      " 30  level7Id          15335 non-null  int64  \n",
      " 31  level8Id          15335 non-null  int64  \n",
      " 32  accuracy          15335 non-null  int64  \n",
      " 33  latitude          15335 non-null  object \n",
      " 34  longitude         15335 non-null  object \n",
      " 35  zipCode           0 non-null      float64\n",
      " 36  customZone        0 non-null      float64\n",
      "dtypes: Int64(2), bool(1), float64(4), int64(13), object(17)\n",
      "memory usage: 4.3+ MB\n"
     ]
    }
   ],
   "source": [
    "data.info()\n",
    "# Algunas columnas, como zipCode y customZone, no tienen ningún dato no nulo\n",
    "# Borro las columnas que tienen todo na porque no serán de utilidad\n",
    "data.dropna(axis=1, how='all', inplace=True)"
   ]
  },
  {
   "cell_type": "markdown",
   "id": "0e5f76de",
   "metadata": {},
   "source": [
    "#### What is the mean of prices in the population (level5) of \"Arroyomolinos (Madrid)\"? (★★☆)"
   ]
  },
  {
   "cell_type": "code",
   "execution_count": 13,
   "id": "327f7adb",
   "metadata": {},
   "outputs": [
    {
     "name": "stdout",
     "output_type": "stream",
     "text": [
      "Precio promedio en Arroyomolinos (Madrid): 294541.6\n",
      "Precio promedio en Arroyomolinos (Madrid) - excluyendo casas con precio 0: 298905.18\n"
     ]
    }
   ],
   "source": [
    "print(\"Precio promedio en Arroyomolinos (Madrid):\",round(data.loc[data['level5']=='Arroyomolinos (Madrid)', 'price'].mean(),2))\n",
    "print(\"Precio promedio en Arroyomolinos (Madrid) - excluyendo casas con precio 0:\",round(data_sin0.loc[data_sin0['level5']=='Arroyomolinos (Madrid)', 'price'].mean(),2))"
   ]
  },
  {
   "cell_type": "markdown",
   "id": "89b548e3",
   "metadata": {},
   "source": [
    "#### Plot the histogram of prices for the population (level5) of \"Arroyomolinos (Madrid)\" and explain what you observe (★★☆)"
   ]
  },
  {
   "cell_type": "code",
   "execution_count": 14,
   "metadata": {},
   "outputs": [
    {
     "name": "stdout",
     "output_type": "stream",
     "text": [
      "Los precios de las casas en Arroyomolinos (Madrid) - excluyendo observaciones con precio 0 - no se distribuyen de forma simétrica. La mayoría de las casas se encuentra concentrada en la izquierda de la distribución y sus precios se encuetran entre 200 mil y 400 mil. Luego, se encuentran algunas observaciones (pocas) con precio por encima de 400 mil. Este tipo de distribución implica que el precio promedio es mayor al precio mediano.\n"
     ]
    },
    {
     "data": {
      "image/png": "[encoded data removed]",
      "text/plain": [
       "<Figure size 432x288 with 1 Axes>"
      ]
     },
     "metadata": {
      "needs_background": "light"
     },
     "output_type": "display_data"
    }
   ],
   "source": [
    "import matplotlib.pyplot as plt \n",
    "fig, ax = plt.subplots()\n",
    "ax.hist(data.loc[(data[\"level5\"]==\"Arroyomolinos (Madrid)\") & (data[\"price\"]>0), \"price\"])\n",
    "ax.set_title(\"Histograma precios Arroyomolinos (Madrid)\")\n",
    "\n",
    "# Para graficar el histograma excluyo las casas que tienen precio 0\n",
    "\n",
    "print(\"Los precios de las casas en Arroyomolinos (Madrid) - excluyendo observaciones con precio 0 - no se distribuyen de forma simétrica. La mayoría de las casas se encuentra concentrada en la izquierda de la distribución y sus precios se encuetran entre 200 mil y 400 mil. Luego, se encuentran algunas observaciones (pocas) con precio por encima de 400 mil. Este tipo de distribución implica que el precio promedio es mayor al precio mediano.\")"
   ]
  },
  {
   "cell_type": "markdown",
   "id": "c86dc493",
   "metadata": {},
   "source": [
    "#### Now let's work with the \"south belt\" of madrid. Make a subsetting that contains the following populations (level5): \"Fuenlabrada\",\"Leganés\",\"Getafe\",\"Alcorcón\" (★★☆) "
   ]
  },
  {
   "cell_type": "code",
   "execution_count": 15,
   "id": "5280d0cb",
   "metadata": {},
   "outputs": [
    {
     "data": {
      "text/html": [
       "<div>\n",
       "<style scoped>\n",
       "    .dataframe tbody tr th:only-of-type {\n",
       "        vertical-align: middle;\n",
       "    }\n",
       "\n",
       "    .dataframe tbody tr th {\n",
       "        vertical-align: top;\n",
       "    }\n",
       "\n",
       "    .dataframe thead th {\n",
       "        text-align: right;\n",
       "    }\n",
       "</style>\n",
       "<table border=\"1\" class=\"dataframe\">\n",
       "  <thead>\n",
       "    <tr style=\"text-align: right;\">\n",
       "      <th></th>\n",
       "      <th>Unnamed: 0</th>\n",
       "      <th>id_realEstates</th>\n",
       "      <th>isNew</th>\n",
       "      <th>realEstate_name</th>\n",
       "      <th>phone_realEstate</th>\n",
       "      <th>url_inmueble</th>\n",
       "      <th>rooms</th>\n",
       "      <th>bathrooms</th>\n",
       "      <th>surface</th>\n",
       "      <th>price</th>\n",
       "      <th>...</th>\n",
       "      <th>level2Id</th>\n",
       "      <th>level3Id</th>\n",
       "      <th>level4Id</th>\n",
       "      <th>level5Id</th>\n",
       "      <th>level6Id</th>\n",
       "      <th>level7Id</th>\n",
       "      <th>level8Id</th>\n",
       "      <th>accuracy</th>\n",
       "      <th>latitude</th>\n",
       "      <th>longitude</th>\n",
       "    </tr>\n",
       "  </thead>\n",
       "  <tbody>\n",
       "    <tr>\n",
       "      <th>0</th>\n",
       "      <td>2</td>\n",
       "      <td>153867863</td>\n",
       "      <td>False</td>\n",
       "      <td>tecnocasa fuenlabrada ferrocarril</td>\n",
       "      <td>916358736.0</td>\n",
       "      <td>https://www.fotocasa.es/es/comprar/vivienda/ma...</td>\n",
       "      <td>3</td>\n",
       "      <td>1</td>\n",
       "      <td>NaN</td>\n",
       "      <td>89000</td>\n",
       "      <td>...</td>\n",
       "      <td>0</td>\n",
       "      <td>0</td>\n",
       "      <td>0</td>\n",
       "      <td>0</td>\n",
       "      <td>0</td>\n",
       "      <td>0</td>\n",
       "      <td>0</td>\n",
       "      <td>1</td>\n",
       "      <td>40,28674</td>\n",
       "      <td>-3,79351</td>\n",
       "    </tr>\n",
       "    <tr>\n",
       "      <th>1</th>\n",
       "      <td>4</td>\n",
       "      <td>152776331</td>\n",
       "      <td>False</td>\n",
       "      <td>tecnocasa fuenlabrada ferrocarril</td>\n",
       "      <td>916358736.0</td>\n",
       "      <td>https://www.fotocasa.es/es/comprar/vivienda/ma...</td>\n",
       "      <td>3</td>\n",
       "      <td>1</td>\n",
       "      <td>86.0</td>\n",
       "      <td>89000</td>\n",
       "      <td>...</td>\n",
       "      <td>0</td>\n",
       "      <td>0</td>\n",
       "      <td>0</td>\n",
       "      <td>0</td>\n",
       "      <td>0</td>\n",
       "      <td>0</td>\n",
       "      <td>0</td>\n",
       "      <td>0</td>\n",
       "      <td>40,2853785786438</td>\n",
       "      <td>-3,79508142135624</td>\n",
       "    </tr>\n",
       "    <tr>\n",
       "      <th>2</th>\n",
       "      <td>86</td>\n",
       "      <td>153152077</td>\n",
       "      <td>False</td>\n",
       "      <td>sinergical inmobiliaria</td>\n",
       "      <td>NaN</td>\n",
       "      <td>https://www.fotocasa.es/es/comprar/vivienda/le...</td>\n",
       "      <td>1</td>\n",
       "      <td>1</td>\n",
       "      <td>50.0</td>\n",
       "      <td>107000</td>\n",
       "      <td>...</td>\n",
       "      <td>0</td>\n",
       "      <td>0</td>\n",
       "      <td>0</td>\n",
       "      <td>0</td>\n",
       "      <td>0</td>\n",
       "      <td>0</td>\n",
       "      <td>0</td>\n",
       "      <td>1</td>\n",
       "      <td>40,35059</td>\n",
       "      <td>-3,82693</td>\n",
       "    </tr>\n",
       "    <tr>\n",
       "      <th>3</th>\n",
       "      <td>95</td>\n",
       "      <td>153995577</td>\n",
       "      <td>False</td>\n",
       "      <td>viviendas365com</td>\n",
       "      <td>911226014.0</td>\n",
       "      <td>https://www.fotocasa.es/es/comprar/vivienda/le...</td>\n",
       "      <td>3</td>\n",
       "      <td>2</td>\n",
       "      <td>120.0</td>\n",
       "      <td>320000</td>\n",
       "      <td>...</td>\n",
       "      <td>0</td>\n",
       "      <td>0</td>\n",
       "      <td>0</td>\n",
       "      <td>0</td>\n",
       "      <td>0</td>\n",
       "      <td>0</td>\n",
       "      <td>0</td>\n",
       "      <td>0</td>\n",
       "      <td>40,31933</td>\n",
       "      <td>-3,77574</td>\n",
       "    </tr>\n",
       "    <tr>\n",
       "      <th>4</th>\n",
       "      <td>110</td>\n",
       "      <td>153586414</td>\n",
       "      <td>False</td>\n",
       "      <td>area uno asesores inmobiliarios</td>\n",
       "      <td>912664081.0</td>\n",
       "      <td>https://www.fotocasa.es/es/comprar/vivienda/ma...</td>\n",
       "      <td>3</td>\n",
       "      <td>3</td>\n",
       "      <td>142.0</td>\n",
       "      <td>425000</td>\n",
       "      <td>...</td>\n",
       "      <td>0</td>\n",
       "      <td>0</td>\n",
       "      <td>0</td>\n",
       "      <td>0</td>\n",
       "      <td>0</td>\n",
       "      <td>0</td>\n",
       "      <td>0</td>\n",
       "      <td>0</td>\n",
       "      <td>40,3313411</td>\n",
       "      <td>-3,8313868</td>\n",
       "    </tr>\n",
       "  </tbody>\n",
       "</table>\n",
       "<p>5 rows × 35 columns</p>\n",
       "</div>"
      ],
      "text/plain": [
       "   Unnamed: 0  id_realEstates  isNew                    realEstate_name  \\\n",
       "0           2       153867863  False  tecnocasa fuenlabrada ferrocarril   \n",
       "1           4       152776331  False  tecnocasa fuenlabrada ferrocarril   \n",
       "2          86       153152077  False            sinergical inmobiliaria   \n",
       "3          95       153995577  False                    viviendas365com   \n",
       "4         110       153586414  False    area uno asesores inmobiliarios   \n",
       "\n",
       "   phone_realEstate                                       url_inmueble  rooms  \\\n",
       "0       916358736.0  https://www.fotocasa.es/es/comprar/vivienda/ma...      3   \n",
       "1       916358736.0  https://www.fotocasa.es/es/comprar/vivienda/ma...      3   \n",
       "2               NaN  https://www.fotocasa.es/es/comprar/vivienda/le...      1   \n",
       "3       911226014.0  https://www.fotocasa.es/es/comprar/vivienda/le...      3   \n",
       "4       912664081.0  https://www.fotocasa.es/es/comprar/vivienda/ma...      3   \n",
       "\n",
       "   bathrooms  surface   price  ... level2Id level3Id level4Id level5Id  \\\n",
       "0          1      NaN   89000  ...        0        0        0        0   \n",
       "1          1     86.0   89000  ...        0        0        0        0   \n",
       "2          1     50.0  107000  ...        0        0        0        0   \n",
       "3          2    120.0  320000  ...        0        0        0        0   \n",
       "4          3    142.0  425000  ...        0        0        0        0   \n",
       "\n",
       "  level6Id level7Id level8Id accuracy          latitude          longitude  \n",
       "0        0        0        0        1          40,28674           -3,79351  \n",
       "1        0        0        0        0  40,2853785786438  -3,79508142135624  \n",
       "2        0        0        0        1          40,35059           -3,82693  \n",
       "3        0        0        0        0          40,31933           -3,77574  \n",
       "4        0        0        0        0        40,3313411         -3,8313868  \n",
       "\n",
       "[5 rows x 35 columns]"
      ]
     },
     "execution_count": 15,
     "metadata": {},
     "output_type": "execute_result"
    }
   ],
   "source": [
    "filter_list = ['Fuenlabrada', 'Leganés', 'Getafe', 'Alcorcón']\n",
    "data_sb = data[data.level5.isin(filter_list)]\n",
    "data_sb = data_sb.reset_index() # reseteo el indice\n",
    "data_sb.drop('index', inplace=True, axis=1)# elimino el indice anterior\n",
    "data_sb.head()"
   ]
  },
  {
   "cell_type": "code",
   "execution_count": 16,
   "id": "47b8f8bd",
   "metadata": {},
   "outputs": [
    {
     "name": "stdout",
     "output_type": "stream",
     "text": [
      "Cantidad de observaciones: 907\n"
     ]
    }
   ],
   "source": [
    "print(\"Cantidad de observaciones:\", len(data_sb))"
   ]
  },
  {
   "cell_type": "markdown",
   "id": "090a6a3e",
   "metadata": {},
   "source": [
    "#### Make a bar plot of the median of prices (★★★) "
   ]
  },
  {
   "cell_type": "code",
   "execution_count": 17,
   "id": "68aec11c",
   "metadata": {},
   "outputs": [
    {
     "data": {
      "text/plain": [
       "<AxesSubplot:title={'center':'Mediana precio'}, xlabel='Level 5', ylabel='Mediana precio'>"
      ]
     },
     "execution_count": 17,
     "metadata": {},
     "output_type": "execute_result"
    },
    {
     "data": {
      "image/png": "[encoded data removed]",
      "text/plain": [
       "<Figure size 720x432 with 1 Axes>"
      ]
     },
     "metadata": {
      "needs_background": "light"
     },
     "output_type": "display_data"
    }
   ],
   "source": [
    "# calculo la mediana de cada área\n",
    "\n",
    "\n",
    "data_groups = data_sb.groupby(['level5'])['price'].median()\n",
    "\n",
    "\n",
    "# gráfico\n",
    "data_groups.plot(kind='bar', title='Mediana precio',\n",
    "               ylabel='Mediana precio', xlabel='Level 5', figsize=(10, 6))\n",
    "\n"
   ]
  },
  {
   "cell_type": "code",
   "execution_count": 18,
   "id": "d5f9edbc",
   "metadata": {},
   "outputs": [
    {
     "data": {
      "text/plain": [
       "level5\n",
       "Alcorcón       179500.0\n",
       "Fuenlabrada    155000.0\n",
       "Getafe         285305.0\n",
       "Leganés        169950.0\n",
       "Name: price, dtype: float64"
      ]
     },
     "execution_count": 18,
     "metadata": {},
     "output_type": "execute_result"
    }
   ],
   "source": [
    "data_groups"
   ]
  },
  {
   "cell_type": "markdown",
   "id": "18f67373",
   "metadata": {},
   "source": [
    "#### Calculate the sample mean and variance of the variables: price, rooms, surface area and bathrooms (★★★) "
   ]
  },
  {
   "cell_type": "code",
   "execution_count": 19,
   "id": "687b3c33",
   "metadata": {},
   "outputs": [
    {
     "name": "stdout",
     "output_type": "stream",
     "text": [
      "Media price : 223094.5\n",
      "Varianza price : 14921367508.0\n",
      "Media rooms : 3.0\n",
      "Varianza rooms : 0.7\n",
      "Media surface : 111.8\n",
      "Varianza surface : 4263.1\n",
      "Media bathrooms : 1.6\n",
      "Varianza bathrooms : 0.6\n"
     ]
    }
   ],
   "source": [
    "# Calculo media y varianza de las variables de interes para la zona \"South Belt\" de Madrid\n",
    "\n",
    "var_interes = [\"price\",\"rooms\",\"surface\",\"bathrooms\"]\n",
    "\n",
    "for i in var_interes:\n",
    "    media = data_sb[i].mean()\n",
    "    print(\"Media\", i, \":\", round(media,1))\n",
    "    varianza = data_sb[i].var()\n",
    "    print(\"Varianza\", i, \":\", round(varianza,1))"
   ]
  },
  {
   "cell_type": "markdown",
   "id": "95cfde61",
   "metadata": {},
   "source": [
    "#### What is the most expensive home of each population? (★★☆) "
   ]
  },
  {
   "cell_type": "code",
   "execution_count": 20,
   "id": "1c29f78c",
   "metadata": {},
   "outputs": [
    {
     "name": "stdout",
     "output_type": "stream",
     "text": [
      "Precios de las casas más caras por población:\n"
     ]
    },
    {
     "data": {
      "text/plain": [
       "level5\n",
       "Alcorcón        950000\n",
       "Fuenlabrada     490000\n",
       "Getafe         1050000\n",
       "Leganés         650000\n",
       "Name: price, dtype: int64"
      ]
     },
     "execution_count": 20,
     "metadata": {},
     "output_type": "execute_result"
    }
   ],
   "source": [
    "print(\"Precios de las casas más caras por población:\")\n",
    "data_sb.groupby(\"level5\")[\"price\"].max()"
   ]
  },
  {
   "cell_type": "markdown",
   "id": "ea67579b",
   "metadata": {},
   "source": [
    "#### Normalize the variable of prices for each population and plot the 4 histograms in the same plot (★★★) "
   ]
  },
  {
   "cell_type": "code",
   "execution_count": 21,
   "id": "385ad99c",
   "metadata": {},
   "outputs": [
    {
     "data": {
      "text/html": [
       "<div>\n",
       "<style scoped>\n",
       "    .dataframe tbody tr th:only-of-type {\n",
       "        vertical-align: middle;\n",
       "    }\n",
       "\n",
       "    .dataframe tbody tr th {\n",
       "        vertical-align: top;\n",
       "    }\n",
       "\n",
       "    .dataframe thead th {\n",
       "        text-align: right;\n",
       "    }\n",
       "</style>\n",
       "<table border=\"1\" class=\"dataframe\">\n",
       "  <thead>\n",
       "    <tr style=\"text-align: right;\">\n",
       "      <th></th>\n",
       "      <th>Unnamed: 0</th>\n",
       "      <th>id_realEstates</th>\n",
       "      <th>isNew</th>\n",
       "      <th>realEstate_name</th>\n",
       "      <th>phone_realEstate</th>\n",
       "      <th>url_inmueble</th>\n",
       "      <th>rooms</th>\n",
       "      <th>bathrooms</th>\n",
       "      <th>surface</th>\n",
       "      <th>price</th>\n",
       "      <th>...</th>\n",
       "      <th>level3Id</th>\n",
       "      <th>level4Id</th>\n",
       "      <th>level5Id</th>\n",
       "      <th>level6Id</th>\n",
       "      <th>level7Id</th>\n",
       "      <th>level8Id</th>\n",
       "      <th>accuracy</th>\n",
       "      <th>latitude</th>\n",
       "      <th>longitude</th>\n",
       "      <th>price_st</th>\n",
       "    </tr>\n",
       "  </thead>\n",
       "  <tbody>\n",
       "    <tr>\n",
       "      <th>0</th>\n",
       "      <td>2</td>\n",
       "      <td>153867863</td>\n",
       "      <td>False</td>\n",
       "      <td>tecnocasa fuenlabrada ferrocarril</td>\n",
       "      <td>916358736.0</td>\n",
       "      <td>https://www.fotocasa.es/es/comprar/vivienda/ma...</td>\n",
       "      <td>3</td>\n",
       "      <td>1</td>\n",
       "      <td>NaN</td>\n",
       "      <td>89000</td>\n",
       "      <td>...</td>\n",
       "      <td>0</td>\n",
       "      <td>0</td>\n",
       "      <td>0</td>\n",
       "      <td>0</td>\n",
       "      <td>0</td>\n",
       "      <td>0</td>\n",
       "      <td>1</td>\n",
       "      <td>40,28674</td>\n",
       "      <td>-3,79351</td>\n",
       "      <td>-1.289130</td>\n",
       "    </tr>\n",
       "    <tr>\n",
       "      <th>1</th>\n",
       "      <td>4</td>\n",
       "      <td>152776331</td>\n",
       "      <td>False</td>\n",
       "      <td>tecnocasa fuenlabrada ferrocarril</td>\n",
       "      <td>916358736.0</td>\n",
       "      <td>https://www.fotocasa.es/es/comprar/vivienda/ma...</td>\n",
       "      <td>3</td>\n",
       "      <td>1</td>\n",
       "      <td>86.0</td>\n",
       "      <td>89000</td>\n",
       "      <td>...</td>\n",
       "      <td>0</td>\n",
       "      <td>0</td>\n",
       "      <td>0</td>\n",
       "      <td>0</td>\n",
       "      <td>0</td>\n",
       "      <td>0</td>\n",
       "      <td>0</td>\n",
       "      <td>40,2853785786438</td>\n",
       "      <td>-3,79508142135624</td>\n",
       "      <td>-1.289130</td>\n",
       "    </tr>\n",
       "    <tr>\n",
       "      <th>2</th>\n",
       "      <td>86</td>\n",
       "      <td>153152077</td>\n",
       "      <td>False</td>\n",
       "      <td>sinergical inmobiliaria</td>\n",
       "      <td>NaN</td>\n",
       "      <td>https://www.fotocasa.es/es/comprar/vivienda/le...</td>\n",
       "      <td>1</td>\n",
       "      <td>1</td>\n",
       "      <td>50.0</td>\n",
       "      <td>107000</td>\n",
       "      <td>...</td>\n",
       "      <td>0</td>\n",
       "      <td>0</td>\n",
       "      <td>0</td>\n",
       "      <td>0</td>\n",
       "      <td>0</td>\n",
       "      <td>0</td>\n",
       "      <td>1</td>\n",
       "      <td>40,35059</td>\n",
       "      <td>-3,82693</td>\n",
       "      <td>-0.977127</td>\n",
       "    </tr>\n",
       "    <tr>\n",
       "      <th>3</th>\n",
       "      <td>95</td>\n",
       "      <td>153995577</td>\n",
       "      <td>False</td>\n",
       "      <td>viviendas365com</td>\n",
       "      <td>911226014.0</td>\n",
       "      <td>https://www.fotocasa.es/es/comprar/vivienda/le...</td>\n",
       "      <td>3</td>\n",
       "      <td>2</td>\n",
       "      <td>120.0</td>\n",
       "      <td>320000</td>\n",
       "      <td>...</td>\n",
       "      <td>0</td>\n",
       "      <td>0</td>\n",
       "      <td>0</td>\n",
       "      <td>0</td>\n",
       "      <td>0</td>\n",
       "      <td>0</td>\n",
       "      <td>0</td>\n",
       "      <td>40,31933</td>\n",
       "      <td>-3,77574</td>\n",
       "      <td>1.022492</td>\n",
       "    </tr>\n",
       "    <tr>\n",
       "      <th>4</th>\n",
       "      <td>110</td>\n",
       "      <td>153586414</td>\n",
       "      <td>False</td>\n",
       "      <td>area uno asesores inmobiliarios</td>\n",
       "      <td>912664081.0</td>\n",
       "      <td>https://www.fotocasa.es/es/comprar/vivienda/ma...</td>\n",
       "      <td>3</td>\n",
       "      <td>3</td>\n",
       "      <td>142.0</td>\n",
       "      <td>425000</td>\n",
       "      <td>...</td>\n",
       "      <td>0</td>\n",
       "      <td>0</td>\n",
       "      <td>0</td>\n",
       "      <td>0</td>\n",
       "      <td>0</td>\n",
       "      <td>0</td>\n",
       "      <td>0</td>\n",
       "      <td>40,3313411</td>\n",
       "      <td>-3,8313868</td>\n",
       "      <td>1.547646</td>\n",
       "    </tr>\n",
       "  </tbody>\n",
       "</table>\n",
       "<p>5 rows × 36 columns</p>\n",
       "</div>"
      ],
      "text/plain": [
       "   Unnamed: 0  id_realEstates  isNew                    realEstate_name  \\\n",
       "0           2       153867863  False  tecnocasa fuenlabrada ferrocarril   \n",
       "1           4       152776331  False  tecnocasa fuenlabrada ferrocarril   \n",
       "2          86       153152077  False            sinergical inmobiliaria   \n",
       "3          95       153995577  False                    viviendas365com   \n",
       "4         110       153586414  False    area uno asesores inmobiliarios   \n",
       "\n",
       "   phone_realEstate                                       url_inmueble  rooms  \\\n",
       "0       916358736.0  https://www.fotocasa.es/es/comprar/vivienda/ma...      3   \n",
       "1       916358736.0  https://www.fotocasa.es/es/comprar/vivienda/ma...      3   \n",
       "2               NaN  https://www.fotocasa.es/es/comprar/vivienda/le...      1   \n",
       "3       911226014.0  https://www.fotocasa.es/es/comprar/vivienda/le...      3   \n",
       "4       912664081.0  https://www.fotocasa.es/es/comprar/vivienda/ma...      3   \n",
       "\n",
       "   bathrooms  surface   price  ... level3Id level4Id level5Id level6Id  \\\n",
       "0          1      NaN   89000  ...        0        0        0        0   \n",
       "1          1     86.0   89000  ...        0        0        0        0   \n",
       "2          1     50.0  107000  ...        0        0        0        0   \n",
       "3          2    120.0  320000  ...        0        0        0        0   \n",
       "4          3    142.0  425000  ...        0        0        0        0   \n",
       "\n",
       "  level7Id level8Id accuracy          latitude          longitude  price_st  \n",
       "0        0        0        1          40,28674           -3,79351 -1.289130  \n",
       "1        0        0        0  40,2853785786438  -3,79508142135624 -1.289130  \n",
       "2        0        0        1          40,35059           -3,82693 -0.977127  \n",
       "3        0        0        0          40,31933           -3,77574  1.022492  \n",
       "4        0        0        0        40,3313411         -3,8313868  1.547646  \n",
       "\n",
       "[5 rows x 36 columns]"
      ]
     },
     "execution_count": 21,
     "metadata": {},
     "output_type": "execute_result"
    }
   ],
   "source": [
    "# Normalizo la variable precio y creo una nueva variable (price_st)\n",
    "# La normalizo restando la media y dividiendo por el desvío estándar, de modo que la variable normalizada \n",
    "# tenga media 0 y desvío estándar igual a 1\n",
    "\n",
    "import numpy as np\n",
    "data_sb[\"price_st\"] = data_sb.groupby([\"level5\"])[\"price\"].transform(lambda x: (x-np.mean(x))/(np.std(x))) \n",
    "\n",
    "data_sb.head()"
   ]
  },
  {
   "cell_type": "code",
   "execution_count": 22,
   "id": "f0938db7",
   "metadata": {},
   "outputs": [
    {
     "data": {
      "text/plain": [
       "level5\n",
       "Alcorcón      -1.205176e-16\n",
       "Fuenlabrada    1.720131e-16\n",
       "Getafe        -1.531342e-18\n",
       "Leganés       -2.918628e-17\n",
       "Name: price_st, dtype: float64"
      ]
     },
     "execution_count": 22,
     "metadata": {},
     "output_type": "execute_result"
    }
   ],
   "source": [
    "# chequeo que la media de la variable precio estandarizada sea 0\n",
    "data_sb.groupby(\"level5\")[\"price_st\"].mean()\n"
   ]
  },
  {
   "cell_type": "code",
   "execution_count": 23,
   "id": "a1f865ca",
   "metadata": {},
   "outputs": [
    {
     "data": {
      "text/plain": [
       "level5\n",
       "Alcorcón       1.002642\n",
       "Fuenlabrada    1.002153\n",
       "Getafe         1.001729\n",
       "Leganés        1.002587\n",
       "Name: price_st, dtype: float64"
      ]
     },
     "execution_count": 23,
     "metadata": {},
     "output_type": "execute_result"
    }
   ],
   "source": [
    "data_sb.groupby(\"level5\")[\"price_st\"].std()\n",
    "# chequeo que el desvío de la variable precio estandarizada sea 1"
   ]
  },
  {
   "cell_type": "code",
   "execution_count": 24,
   "id": "7e4be5cb",
   "metadata": {},
   "outputs": [
    {
     "data": {
      "image/png": "[encoded data removed]",
      "text/plain": [
       "<Figure size 432x288 with 4 Axes>"
      ]
     },
     "metadata": {
      "needs_background": "light"
     },
     "output_type": "display_data"
    }
   ],
   "source": [
    "# histograma de las 4 zonas, excluyo las que tienen precio menor a 0\n",
    "\n",
    "fig, ax = plt.subplots(2, 2, sharey = True)\n",
    "ax[0, 0].hist(data_sb.loc[(data_sb[\"level5\"]==\"Getafe\") & (data_sb[\"price\"]>0),\"price_st\"])\n",
    "ax[0, 1].hist(data_sb.loc[(data_sb[\"level5\"]==\"Alcorcón\") & (data_sb[\"price\"]>0),\"price_st\"])\n",
    "ax[1, 0].hist(data_sb.loc[(data_sb[\"level5\"]==\"Fuenlabrada\") & (data_sb[\"price\"]>0),\"price_st\"])\n",
    "ax[1, 1].hist(data_sb.loc[(data_sb[\"level5\"]==\"Leganés\") & (data_sb[\"price\"]>0),\"price_st\"])\n",
    "ax[0, 0].set_title('Getafe')\n",
    "ax[0, 1].set_title('Alcorcón')\n",
    "ax[1, 0].set_title('Fuenlabrada')\n",
    "ax[1, 1].set_title('Leganés')\n",
    "plt.tight_layout() # evita que se superpongan las etiquetas de los ejes con los títulos\n",
    "plt.show()"
   ]
  },
  {
   "cell_type": "markdown",
   "id": "2ec1bd5c",
   "metadata": {},
   "source": [
    "#### Make a plot of the coordinates (lat and long) of the south belt of Madrid by color of each population (★★★★) \n",
    "This is a extremely hard exercise and we highly recommend to do it at the end of everything"
   ]
  },
  {
   "cell_type": "code",
   "execution_count": 25,
   "id": "312aac99",
   "metadata": {},
   "outputs": [
    {
     "data": {
      "application/vnd.jupyter.widget-view+json": {
       "model_id": "13fda030a1eb4f5ea50305f94518a0de",
       "version_major": 2,
       "version_minor": 0
      },
      "text/plain": [
       "Map(center=[60, -2.2], controls=(ZoomControl(options=['position', 'zoom_in_text', 'zoom_in_title', 'zoom_out_t…"
      ]
     },
     "metadata": {},
     "output_type": "display_data"
    }
   ],
   "source": [
    "# Run in console the following command before run the rest of code:\n",
    "# jupyter nbextension enable --py --sys-prefix ipyleaflet\n",
    "\n",
    "from ipyleaflet import Map, basemaps,Marker\n",
    "\n",
    "# Map centred on (60 degrees latitude et -2.2 degrees longitude)\n",
    "# Latitude, longitude\n",
    "map = Map(center = (60, -2.2), zoom = 2, min_zoom = 1, max_zoom = 20, \n",
    "    basemap=basemaps.Stamen.Terrain)\n",
    "map\n",
    "\n"
   ]
  },
  {
   "cell_type": "code",
   "execution_count": 26,
   "id": "b4b78983",
   "metadata": {},
   "outputs": [
    {
     "data": {
      "text/html": [
       "<div>\n",
       "<style scoped>\n",
       "    .dataframe tbody tr th:only-of-type {\n",
       "        vertical-align: middle;\n",
       "    }\n",
       "\n",
       "    .dataframe tbody tr th {\n",
       "        vertical-align: top;\n",
       "    }\n",
       "\n",
       "    .dataframe thead th {\n",
       "        text-align: right;\n",
       "    }\n",
       "</style>\n",
       "<table border=\"1\" class=\"dataframe\">\n",
       "  <thead>\n",
       "    <tr style=\"text-align: right;\">\n",
       "      <th></th>\n",
       "      <th>level5</th>\n",
       "      <th>latitude</th>\n",
       "      <th>longitude</th>\n",
       "    </tr>\n",
       "  </thead>\n",
       "  <tbody>\n",
       "    <tr>\n",
       "      <th>894</th>\n",
       "      <td>Getafe</td>\n",
       "      <td>40.31667</td>\n",
       "      <td>-3.74072</td>\n",
       "    </tr>\n",
       "    <tr>\n",
       "      <th>898</th>\n",
       "      <td>Alcorcón</td>\n",
       "      <td>40.344393</td>\n",
       "      <td>-3.839799</td>\n",
       "    </tr>\n",
       "    <tr>\n",
       "      <th>903</th>\n",
       "      <td>Leganés</td>\n",
       "      <td>40.3259051</td>\n",
       "      <td>-3.76318</td>\n",
       "    </tr>\n",
       "    <tr>\n",
       "      <th>906</th>\n",
       "      <td>Fuenlabrada</td>\n",
       "      <td>40.28062</td>\n",
       "      <td>-3.79869</td>\n",
       "    </tr>\n",
       "  </tbody>\n",
       "</table>\n",
       "</div>"
      ],
      "text/plain": [
       "          level5    latitude  longitude\n",
       "894       Getafe    40.31667   -3.74072\n",
       "898     Alcorcón   40.344393  -3.839799\n",
       "903      Leganés  40.3259051   -3.76318\n",
       "906  Fuenlabrada    40.28062   -3.79869"
      ]
     },
     "execution_count": 26,
     "metadata": {},
     "output_type": "execute_result"
    }
   ],
   "source": [
    "# Las variables latitud y longitud tienen coma en vez de punto, cambio esto para poder graficar en mapa\n",
    "\n",
    "data_sb[\"latitude\"]=data_sb[\"latitude\"].apply(lambda x: x.replace(',','.'))\n",
    "data_sb[\"longitude\"]=data_sb[\"longitude\"].apply(lambda x: x.replace(',','.'))\n",
    "\n",
    "# Me quedo solo con las columnas que me interesan\n",
    "\n",
    "data_sb_selecc = data_sb[[\"level5\", 'latitude', 'longitude']]\n",
    "\n",
    "# me quedo solo con una línea de cada población para graficar los 4 puntos\n",
    "\n",
    "data_sb_selecc = data_sb_selecc.drop_duplicates(subset='level5', keep=\"last\")\n",
    "\n",
    "data_sb_selecc.head()"
   ]
  },
  {
   "cell_type": "code",
   "execution_count": 27,
   "id": "f7931ec0",
   "metadata": {},
   "outputs": [
    {
     "data": {
      "application/vnd.jupyter.widget-view+json": {
       "model_id": "13fda030a1eb4f5ea50305f94518a0de",
       "version_major": 2,
       "version_minor": 0
      },
      "text/plain": [
       "Map(center=[60, -2.2], controls=(ZoomControl(options=['position', 'zoom_in_text', 'zoom_in_title', 'zoom_out_t…"
      ]
     },
     "metadata": {},
     "output_type": "display_data"
    }
   ],
   "source": [
    "## HERE: plot the coordinates of the estates\n",
    "\n",
    "## PUT HERE YOUR CODE:\n",
    "\n",
    "for name, lon, lat in data_sb_selecc[[\"level5\", \"longitude\", \"latitude\"]].values:\n",
    "    marker = Marker(location=(lat, lon), draggable=False, title=name, alt=name)\n",
    "    map.add_layer(marker)\n",
    "\n",
    "map.layout.height=\"600px\"\n",
    "\n",
    "map"
   ]
  },
  {
   "cell_type": "markdown",
   "id": "b22874b7",
   "metadata": {},
   "source": [
    "#### What can you say about the price per square meter between the towns of Getafe and Alcorcón?"
   ]
  },
  {
   "cell_type": "code",
   "execution_count": 28,
   "id": "e0ef506b",
   "metadata": {},
   "outputs": [
    {
     "name": "stdout",
     "output_type": "stream",
     "text": [
      "data_sb columns: Index(['Unnamed: 0', 'id_realEstates', 'isNew', 'realEstate_name',\n",
      "       'phone_realEstate', 'url_inmueble', 'rooms', 'bathrooms', 'surface',\n",
      "       'price', 'date', 'description', 'address', 'country', 'level1',\n",
      "       'level2', 'level3', 'level4', 'level5', 'level6', 'level7', 'level8',\n",
      "       'upperLevel', 'countryId', 'level1Id', 'level2Id', 'level3Id',\n",
      "       'level4Id', 'level5Id', 'level6Id', 'level7Id', 'level8Id', 'accuracy',\n",
      "       'latitude', 'longitude', 'price_st'],\n",
      "      dtype='object')\n"
     ]
    }
   ],
   "source": [
    "print(\"data_sb columns:\", data_sb.columns)\n",
    "\n",
    "data_sb[\"price_m2\"] = data_sb[\"price\"] / data_sb[\"surface\"] "
   ]
  },
  {
   "cell_type": "code",
   "execution_count": 29,
   "id": "b035537d",
   "metadata": {},
   "outputs": [
    {
     "data": {
      "text/plain": [
       "count      13.000000\n",
       "mean     2371.603493\n",
       "std       587.933207\n",
       "min      1692.292308\n",
       "25%      1813.000000\n",
       "50%      2328.370690\n",
       "75%      2704.664234\n",
       "max      3420.247863\n",
       "Name: price_m2, dtype: float64"
      ]
     },
     "execution_count": 29,
     "metadata": {},
     "output_type": "execute_result"
    }
   ],
   "source": [
    "# me quedo con las observaciones que tienen precio >0 \n",
    "data_sb.loc[(data_sb[\"level5\"]==\"Getafe\") & data_sb[\"price\"]>0, \"price_m2\"].describe()"
   ]
  },
  {
   "cell_type": "code",
   "execution_count": 30,
   "id": "b2e2b46c",
   "metadata": {},
   "outputs": [
    {
     "data": {
      "text/plain": [
       "count     173.000000\n",
       "mean     2239.302480\n",
       "std       539.951527\n",
       "min       604.761905\n",
       "25%      1904.081633\n",
       "50%      2207.792208\n",
       "75%      2472.727273\n",
       "max      3698.159509\n",
       "Name: price_m2, dtype: float64"
      ]
     },
     "execution_count": 30,
     "metadata": {},
     "output_type": "execute_result"
    }
   ],
   "source": [
    "# me quedo con las observaciones que tienen precio >0 \n",
    "data_sb.loc[(data_sb[\"level5\"]==\"Alcorcón\") & (data_sb[\"price\"]>0), \"price_m2\"].describe()"
   ]
  },
  {
   "cell_type": "code",
   "execution_count": 31,
   "id": "f4049148",
   "metadata": {},
   "outputs": [
    {
     "name": "stdout",
     "output_type": "stream",
     "text": [
      "La media y mediana, medidad de posición central, son menores en Alcorcón que en Getafe. El rango de la variable precio por m2 es mayor en Alcorcón que en Getafe, dado que el precio mínimo de Alcorcón es menor al de Getafe y el precio máximo es mayor al de Getafe. Por su parte, el desvío estándar de la variable es mayor en Getafe que en Alcorcón. También el rango intercuartílico es mayor en Getafe que en Alcorcón, lo que apunta a una mayor dispersión de los datos.\n"
     ]
    }
   ],
   "source": [
    "print(\"La media y mediana, medidad de posición central, son menores en Alcorcón que en Getafe. El rango de la variable precio por m2 es mayor en Alcorcón que en Getafe, dado que el precio mínimo de Alcorcón es menor al de Getafe y el precio máximo es mayor al de Getafe. Por su parte, el desvío estándar de la variable es mayor en Getafe que en Alcorcón. También el rango intercuartílico es mayor en Getafe que en Alcorcón, lo que apunta a una mayor dispersión de los datos.\")\n"
   ]
  },
  {
   "cell_type": "markdown",
   "id": "a4376b3f",
   "metadata": {},
   "source": [
    "#### Reload the data, is the average of \"Valdemorillo\" and \"Galapagar\" prices the same?"
   ]
  },
  {
   "cell_type": "code",
   "execution_count": 32,
   "id": "37dbaf65",
   "metadata": {},
   "outputs": [
    {
     "name": "stdout",
     "output_type": "stream",
     "text": [
      "Precio promedio de Valdemorillo: 363860.29\n",
      "Precio promedio de Galapagar: 360063.2\n",
      "Diferencial porcentual entre los precios: 1.05 %\n",
      "La media de los precios de las dos poblaciones es muy similar, la media de Valdemorrillo es 1.05 % superior.\n"
     ]
    }
   ],
   "source": [
    "vald = data.loc[data[\"level5\"]==\"Valdemorillo\",\"price\"].mean()\n",
    "galap = data.loc[data[\"level5\"]==\"Galapagar\",\"price\"].mean()\n",
    "\n",
    "print(\"Precio promedio de Valdemorillo:\", round(vald,2))\n",
    "print(\"Precio promedio de Galapagar:\", round(galap,2))\n",
    "print(\"Diferencial porcentual entre los precios:\", round(((vald/galap)-1)*100,2), \"%\")\n",
    "\n",
    "# Son muy similares, el de Valdemorrillo levemente inferior\n",
    "\n",
    "print(\"La media de los precios de las dos poblaciones es muy similar, la media de Valdemorrillo es\",round(((vald/galap)-1)*100,2),\"% superior.\")"
   ]
  },
  {
   "cell_type": "markdown",
   "id": "b6af45ec",
   "metadata": {},
   "source": [
    "#### What happens if we do the same analysis for price/m2 (★★☆) "
   ]
  },
  {
   "cell_type": "code",
   "execution_count": 33,
   "id": "8231d73e",
   "metadata": {},
   "outputs": [
    {
     "name": "stdout",
     "output_type": "stream",
     "text": [
      "Precio por m2 promedio de Valdemorillo: 1317.95\n",
      "Precio por m2 promedio de Galapagar: 1606.32\n",
      "Diferencial porcentual entre los precios: -17.95 %\n",
      "La diferencia entre las dos zonas es superior si se considera el precio/m2. El precio por m2 promedio en Valdemorrillo es -17.95 % inferior.\n"
     ]
    }
   ],
   "source": [
    "data[\"price_m2\"] = data[\"price\"] / data[\"surface\"]\n",
    "\n",
    "vald = data.loc[data[\"level5\"]==\"Valdemorillo\",\"price_m2\"].mean()\n",
    "galap = data.loc[data[\"level5\"]==\"Galapagar\",\"price_m2\"].mean()\n",
    "\n",
    "print(\"Precio por m2 promedio de Valdemorillo:\", round(vald,2))\n",
    "print(\"Precio por m2 promedio de Galapagar:\", round(galap,2))\n",
    "\n",
    "print(\"Diferencial porcentual entre los precios:\", round(((vald/galap)-1)*100,2), \"%\")\n",
    "\n",
    "print(\"La diferencia entre las dos zonas es superior si se considera el precio/m2. El precio por m2 promedio en Valdemorrillo es\",round(((vald/galap)-1)*100,2),\"% inferior.\")"
   ]
  },
  {
   "cell_type": "markdown",
   "id": "2d40e202",
   "metadata": {},
   "source": [
    "#### Could you say there is a relation between surface and price? (★★☆) \n",
    "Hint: make a scatter plot."
   ]
  },
  {
   "cell_type": "code",
   "execution_count": 34,
   "id": "405462e1",
   "metadata": {},
   "outputs": [
    {
     "data": {
      "image/png": "[encoded data removed]",
      "text/plain": [
       "<Figure size 432x288 with 1 Axes>"
      ]
     },
     "metadata": {
      "needs_background": "light"
     },
     "output_type": "display_data"
    },
    {
     "name": "stdout",
     "output_type": "stream",
     "text": [
      "Hay casas con superficie muy elevada, mayor a 50000 m2. Esto distorsiona el gráfico y no permite sacar conclusiones relevantes sobre la relación entre la superficie y el precio.\n"
     ]
    }
   ],
   "source": [
    "fig, ax = plt.subplots()\n",
    "ax.scatter(data[\"surface\"], data[\"price\"])\n",
    "plt.show()\n",
    "\n",
    "print(\"Hay casas con superficie muy elevada, mayor a 50000 m2. Esto distorsiona el gráfico y no permite sacar conclusiones relevantes sobre la relación entre la superficie y el precio.\")"
   ]
  },
  {
   "cell_type": "code",
   "execution_count": 35,
   "id": "1dfc69f2",
   "metadata": {},
   "outputs": [
    {
     "data": {
      "image/png": "[encoded data removed]",
      "text/plain": [
       "<Figure size 432x288 with 1 Axes>"
      ]
     },
     "metadata": {
      "needs_background": "light"
     },
     "output_type": "display_data"
    },
    {
     "name": "stdout",
     "output_type": "stream",
     "text": [
      "Al excluir las observaciones con superficie mayor a 3000 m2, se puede observar que existe una relación positiva entre el precio y la superficie.\n"
     ]
    }
   ],
   "source": [
    "# Filtro las observaciones y grafico aquellas que tienen superficie mayor a 3000 m2 de modo que se pueda visualizar mejor la relación entre el precio y la superficie\n",
    "fig, ax = plt.subplots()\n",
    "ax.scatter(data.loc[data[\"surface\"]<3000, \"surface\"], data.loc[data[\"surface\"]<3000, \"price\"])\n",
    "plt.show()\n",
    "\n",
    "print(\"Al excluir las observaciones con superficie mayor a 3000 m2, se puede observar que existe una relación positiva entre el precio y la superficie.\")"
   ]
  },
  {
   "cell_type": "markdown",
   "id": "3275db77",
   "metadata": {},
   "source": [
    "#### Make the same plot for 4 different populations (level5) and rearrange them on the same graph? (★★☆) \n",
    "Hint: make a scatter plot of each population using subplots."
   ]
  },
  {
   "cell_type": "code",
   "execution_count": 36,
   "id": "e08292ff",
   "metadata": {},
   "outputs": [
    {
     "data": {
      "image/png": "[encoded data removed]",
      "text/plain": [
       "<Figure size 432x288 with 4 Axes>"
      ]
     },
     "metadata": {
      "needs_background": "light"
     },
     "output_type": "display_data"
    }
   ],
   "source": [
    "# En este caso también grafico únicamente aquellas observaciones con superficie menor a 3000 m2.\n",
    "\n",
    "fig, ax = plt.subplots(2, 2, sharey = True)\n",
    "ax[0, 0].scatter(data_sb.loc[(data_sb[\"level5\"]==\"Getafe\") & (data_sb[\"surface\"]<3000),\"surface\"], data_sb.loc[(data_sb[\"level5\"]==\"Getafe\") & (data_sb[\"surface\"]<3000),\"price\"])\n",
    "ax[0, 1].scatter(data_sb.loc[(data_sb[\"level5\"]==\"Alcorcón\") & (data_sb[\"surface\"]<3000),\"surface\"], data_sb.loc[(data_sb[\"level5\"]==\"Alcorcón\") & (data_sb[\"surface\"]<3000),\"price\"])\n",
    "ax[1, 0].scatter(data_sb.loc[(data_sb[\"level5\"]==\"Fuenlabrada\") & (data_sb[\"surface\"]<3000),\"surface\"], data_sb.loc[(data_sb[\"level5\"]==\"Fuenlabrada\") & (data_sb[\"surface\"]<3000),\"price\"])\n",
    "ax[1, 1].scatter(data_sb.loc[(data_sb[\"level5\"]==\"Leganés\") & (data_sb[\"surface\"]<3000),\"surface\"], data_sb.loc[(data_sb[\"level5\"]==\"Leganés\") & (data_sb[\"surface\"]<3000),\"price\"])\n",
    "ax[0, 0].set_title('Getafe')\n",
    "ax[0, 1].set_title('Alcorcón')\n",
    "ax[1, 0].set_title('Fuenlabrada')\n",
    "ax[1, 1].set_title('Leganés')\n",
    "plt.tight_layout()\n",
    "plt.show()"
   ]
  },
  {
   "cell_type": "markdown",
   "id": "522c6bd9",
   "metadata": {},
   "source": [
    "#### How many  real estate agencies the dataset contains? (★★☆) "
   ]
  },
  {
   "cell_type": "code",
   "execution_count": 37,
   "id": "014ec6c8",
   "metadata": {},
   "outputs": [
    {
     "name": "stdout",
     "output_type": "stream",
     "text": [
      "engel volkers madrid    470\n",
      "infocasa consulting     300\n",
      "outletdeviviendas       260\n",
      "housell                 250\n",
      "solvia inmobiliaria     207\n",
      "                       ... \n",
      "javier garcia             1\n",
      "ir inmobiliaria           1\n",
      "jesus                     1\n",
      "julio                     1\n",
      "nieves                    1\n",
      "Name: realEstate_name, Length: 1821, dtype: int64\n",
      "None\n",
      "El dataset contiene 1821 real estate agencies.\n"
     ]
    }
   ],
   "source": [
    "print(print(data[\"realEstate_name\"].value_counts()))\n",
    "\n",
    "print(\"El dataset contiene\", len(data[\"realEstate_name\"].value_counts()), \"real estate agencies.\")"
   ]
  },
  {
   "cell_type": "markdown",
   "id": "899a101e",
   "metadata": {},
   "source": [
    "#### What is the population (level 5) that contains the most houses? (★★☆) "
   ]
  },
  {
   "cell_type": "code",
   "execution_count": 38,
   "id": "9e8b34ba",
   "metadata": {},
   "outputs": [
    {
     "name": "stdout",
     "output_type": "stream",
     "text": [
      " Madrid Capital         6643\n",
      "Alcalá de Henares        525\n",
      "Las Rozas de Madrid      383\n",
      "Móstoles                 325\n",
      "Getafe                   290\n",
      "                        ... \n",
      "Brea de Tajo               1\n",
      "El Atazar                  1\n",
      "Piñuécar-gandullas         1\n",
      "Braojos                    1\n",
      "Montejo de la Sierra       1\n",
      "Name: level5, Length: 168, dtype: int64\n",
      "Madrid Capital es la zona que contiene mayor cantidad de casas.\n"
     ]
    }
   ],
   "source": [
    "print(data[\"level5\"].value_counts())\n",
    "\n",
    "print(\"Madrid Capital es la zona que contiene mayor cantidad de casas.\")"
   ]
  }
 ],
 "metadata": {
  "kernelspec": {
   "display_name": "Python 3.8.13 64-bit ('3.8.13')",
   "language": "python",
   "name": "python3"
  },
  "language_info": {
   "codemirror_mode": {
    "name": "ipython",
    "version": 3
   },
   "file_extension": ".py",
   "mimetype": "text/x-python",
   "name": "python",
   "nbconvert_exporter": "python",
   "pygments_lexer": "ipython3",
   "version": "3.8.13"
  },
  "vscode": {
   "interpreter": {
    "hash": "110cc1dee26208153f2972f08a2ad52b6a56238dc66d48e87fb757ef2996db56"
   }
  }
 },
 "nbformat": 4,
 "nbformat_minor": 5
}
